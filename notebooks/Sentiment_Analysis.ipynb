{
 "cells": [
  {
   "cell_type": "code",
   "execution_count": null,
   "metadata": {},
   "outputs": [],
   "source": [
    "# Example notebook code for testing and visualizing model performance\n",
    "import pandas as pd\n",
    "import seaborn as sns\n",
    "import matplotlib.pyplot as plt\n",
    "from sklearn.metrics import confusion_matrix, classification_report\n",
    "\n",
    "# Load and evaluate ML model\n",
    "from sklearn.metrics import accuracy_score\n",
    "\n",
    "ml_model = joblib.load('../models/ml_model.pkl')\n",
    "vectorizer = joblib.load('../models/tfidf_vectorizer.pkl')\n",
    "\n",
    "# Test model\n",
    "test_data = pd.read_csv('../data/dataset_1.csv')\n",
    "X_test = vectorizer.transform(test_data['review'])\n",
    "y_test = test_data['sentiment']\n",
    "\n",
    "y_pred = ml_model.predict(X_test)\n",
    "\n",
    "# Plot confusion matrix\n",
    "sns.heatmap(confusion_matrix(y_test, y_pred), annot=True)\n",
    "plt.show()\n",
    "\n",
    "# Print classification report\n",
    "print(classification_report(y_test, y_pred))\n"
   ]
  }
 ],
 "metadata": {
  "language_info": {
   "name": "python"
  }
 },
 "nbformat": 4,
 "nbformat_minor": 2
}
